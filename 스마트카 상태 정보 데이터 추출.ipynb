{
 "cells": [
  {
   "cell_type": "markdown",
   "id": "4acec7d8",
   "metadata": {},
   "source": [
    "# 라이브러리 및 파일 불러오기"
   ]
  },
  {
   "cell_type": "code",
   "execution_count": 1,
   "id": "95519091",
   "metadata": {},
   "outputs": [],
   "source": [
    "import pandas as pd\n",
    "import numpy as np"
   ]
  },
  {
   "cell_type": "code",
   "execution_count": null,
   "id": "187c7ccb",
   "metadata": {},
   "outputs": [],
   "source": [
    "data = pd.read_csv(\"data/status_info.csv\")\n",
    "data.info()"
   ]
  },
  {
   "cell_type": "markdown",
   "id": "1819e75e",
   "metadata": {},
   "source": [
    "## 숫자가 아닌 `object` 요소 가져오기 -> df2"
   ]
  },
  {
   "cell_type": "code",
   "execution_count": null,
   "id": "bf5bc919",
   "metadata": {},
   "outputs": [],
   "source": [
    "df2 = pd.DataFrame(data['managed_smartcar_status_info.car_number'])\n",
    "df2 = pd.concat([df2, pd.DataFrame(data['managed_smartcar_status_info.sex'])], axis = 1)\n",
    "df2 = pd.concat([df2, pd.DataFrame(data['managed_smartcar_status_info.marriage'])], axis = 1)\n",
    "df2 = pd.concat([df2, pd.DataFrame(data['managed_smartcar_status_info.region'])], axis = 1)\n",
    "df2 = pd.concat([df2, pd.DataFrame(data['managed_smartcar_status_info.job'])], axis = 1)\n",
    "df2 = pd.concat([df2, pd.DataFrame(data['managed_smartcar_status_info.car_model'])], axis = 1)\n",
    "df2\n"
   ]
  },
  {
   "cell_type": "code",
   "execution_count": null,
   "id": "740ca332",
   "metadata": {},
   "outputs": [],
   "source": [
    "df2.set_index('managed_smartcar_status_info.car_number', inplace = True)\n",
    "df2"
   ]
  },
  {
   "cell_type": "markdown",
   "id": "85b4f428",
   "metadata": {},
   "source": [
    "# 숫자 요소 group by, 평균 -> df"
   ]
  },
  {
   "cell_type": "markdown",
   "id": "40519371",
   "metadata": {},
   "source": [
    "- drop"
   ]
  },
  {
   "cell_type": "code",
   "execution_count": null,
   "id": "7262a9d6",
   "metadata": {},
   "outputs": [],
   "source": [
    "df = data.groupby(['managed_smartcar_status_info.car_number']).mean()"
   ]
  },
  {
   "cell_type": "code",
   "execution_count": null,
   "id": "d7709f58",
   "metadata": {},
   "outputs": [],
   "source": [
    "df.drop(['managed_smartcar_status_info.tire_fl', 'managed_smartcar_status_info.tire_fr', 'managed_smartcar_status_info.tire_bl', 'managed_smartcar_status_info.tire_br', 'managed_smartcar_status_info.light_fl', 'managed_smartcar_status_info.light_fr', 'managed_smartcar_status_info.light_bl', 'managed_smartcar_status_info.light_br', 'managed_smartcar_status_info.battery'], axis = 1, inplace = True)"
   ]
  },
  {
   "cell_type": "code",
   "execution_count": null,
   "id": "6b16fb7d",
   "metadata": {},
   "outputs": [],
   "source": [
    "df.drop(['Unnamed: 0'], axis = 1, inplace = True)"
   ]
  },
  {
   "cell_type": "code",
   "execution_count": null,
   "id": "e6daf002",
   "metadata": {},
   "outputs": [],
   "source": [
    "df.drop(['managed_smartcar_status_info.reg_date'], axis = 1, inplace = True)"
   ]
  },
  {
   "cell_type": "markdown",
   "id": "71e44a2d",
   "metadata": {},
   "source": [
    "- reset_index()를 통해 차량 번호를 key로 활용"
   ]
  },
  {
   "cell_type": "code",
   "execution_count": null,
   "id": "4bfe7ae1",
   "metadata": {
    "scrolled": false
   },
   "outputs": [],
   "source": [
    "df.reset_index(inplace = True)"
   ]
  },
  {
   "cell_type": "code",
   "execution_count": null,
   "id": "ad2c3343",
   "metadata": {},
   "outputs": [],
   "source": [
    "df"
   ]
  },
  {
   "cell_type": "code",
   "execution_count": null,
   "id": "310b43ab",
   "metadata": {},
   "outputs": [],
   "source": [
    "df2.reset_index(inplace = True)"
   ]
  },
  {
   "cell_type": "code",
   "execution_count": null,
   "id": "eba03c96",
   "metadata": {},
   "outputs": [],
   "source": [
    "df2"
   ]
  },
  {
   "cell_type": "markdown",
   "id": "1810b6d4",
   "metadata": {},
   "source": [
    "- 중복 제거"
   ]
  },
  {
   "cell_type": "code",
   "execution_count": null,
   "id": "4279f63e",
   "metadata": {},
   "outputs": [],
   "source": [
    "df2 = df2.drop_duplicates(subset=['managed_smartcar_status_info.car_number'])"
   ]
  },
  {
   "cell_type": "code",
   "execution_count": null,
   "id": "a1b9cf17",
   "metadata": {},
   "outputs": [],
   "source": [
    "df2.reset_index(inplace = True)\n",
    "df2"
   ]
  },
  {
   "cell_type": "code",
   "execution_count": null,
   "id": "c06e929f",
   "metadata": {},
   "outputs": [],
   "source": [
    "data = pd.merge(df, df2, on = 'managed_smartcar_status_info.car_number')"
   ]
  },
  {
   "cell_type": "code",
   "execution_count": null,
   "id": "b8fa67cb",
   "metadata": {
    "scrolled": true
   },
   "outputs": [],
   "source": [
    "data.drop(['index'], axis = 1, inplace = True)"
   ]
  },
  {
   "cell_type": "code",
   "execution_count": null,
   "id": "4e24f4f1",
   "metadata": {},
   "outputs": [],
   "source": [
    "data"
   ]
  },
  {
   "cell_type": "code",
   "execution_count": null,
   "id": "5555a780",
   "metadata": {},
   "outputs": [],
   "source": [
    "data.column =['차량 번호', '나이', '배기량', '연식', '성별', '결혼 여부', '거주 지역', '직업', '차량 모델']e"
   ]
  },
  {
   "cell_type": "code",
   "execution_count": null,
   "id": "856b6856",
   "metadata": {},
   "outputs": [],
   "source": [
    "result.to_csv(\"car_status_info.csv\")"
   ]
  },
  {
   "cell_type": "code",
   "execution_count": null,
   "id": "e71d4ecd",
   "metadata": {},
   "outputs": [],
   "source": []
  }
 ],
 "metadata": {
  "kernelspec": {
   "display_name": "Python 3",
   "language": "python",
   "name": "python3"
  },
  "language_info": {
   "codemirror_mode": {
    "name": "ipython",
    "version": 3
   },
   "file_extension": ".py",
   "mimetype": "text/x-python",
   "name": "python",
   "nbconvert_exporter": "python",
   "pygments_lexer": "ipython3",
   "version": "3.8.8"
  }
 },
 "nbformat": 4,
 "nbformat_minor": 5
}
